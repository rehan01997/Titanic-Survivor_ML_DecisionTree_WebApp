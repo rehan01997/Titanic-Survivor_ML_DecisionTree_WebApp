{
 "cells": [
  {
   "cell_type": "code",
   "execution_count": 13,
   "metadata": {},
   "outputs": [
    {
     "name": "stdout",
     "output_type": "stream",
     "text": [
      " * Serving Flask app \"__main__\" (lazy loading)\n",
      " * Environment: production\n",
      "   WARNING: This is a development server. Do not use it in a production deployment.\n",
      "   Use a production WSGI server instead.\n",
      " * Debug mode: on\n"
     ]
    },
    {
     "name": "stderr",
     "output_type": "stream",
     "text": [
      " * Restarting with stat\n"
     ]
    },
    {
     "ename": "SystemExit",
     "evalue": "1",
     "output_type": "error",
     "traceback": [
      "An exception has occurred, use %tb to see the full traceback.\n",
      "\u001b[1;31mSystemExit\u001b[0m\u001b[1;31m:\u001b[0m 1\n"
     ]
    }
   ],
   "source": [
    "import numpy as np\n",
    "from flask import Flask ,request, jsonify , render_template\n",
    "import pickle\n",
    "\n",
    "app = Flask(__name__)\n",
    "#model = pickle.load(open('model.pkl' , 'rb'))\n",
    "\n",
    "@app.route('/')\n",
    "def home():\n",
    "    return render_template('index.html')\n",
    "\n",
    "if __name__ == \"__main__\":\n",
    "    app.run(debug = True)"
   ]
  },
  {
   "cell_type": "code",
   "execution_count": null,
   "metadata": {},
   "outputs": [],
   "source": [
    "@app.route('/predict',methods = ['POST'])\n",
    "def predict():\n",
    "    #for rendering results on HTML GUI\n",
    "    user_features = [int(x) for x in request.form.values()]\n",
    "    final_features = [np.array(user_features)]\n",
    "    final_features = final_features.reshape(( 1 ,-1 ))\n",
    "    final_features = pd.DataFrame(a)\n",
    "    \n",
    "    output = model.predict(final_features)\n",
    "    output = output[0]\n",
    "    \n",
    "    if( output == 0):\n",
    "        final_output = \"Dead\"\n",
    "    else:\n",
    "        final_output = \"Survived\"\n",
    "    return render_template('index.html' , pediction_text = 'Person : ${}'.format(final_output))"
   ]
  }
 ],
 "metadata": {
  "kernelspec": {
   "display_name": "Python 3",
   "language": "python",
   "name": "python3"
  },
  "language_info": {
   "codemirror_mode": {
    "name": "ipython",
    "version": 3
   },
   "file_extension": ".py",
   "mimetype": "text/x-python",
   "name": "python",
   "nbconvert_exporter": "python",
   "pygments_lexer": "ipython3",
   "version": "3.7.3"
  }
 },
 "nbformat": 4,
 "nbformat_minor": 2
}
